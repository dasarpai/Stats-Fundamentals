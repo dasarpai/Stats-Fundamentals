{
 "cells": [
  {
   "cell_type": "code",
   "execution_count": 1,
   "metadata": {},
   "outputs": [],
   "source": [
    "## Inspiration: https://towardsdatascience.com/identify-your-datas-distribution-d76062fc0802"
   ]
  },
  {
   "cell_type": "code",
   "execution_count": 137,
   "metadata": {},
   "outputs": [],
   "source": [
    "from scipy.stats import *"
   ]
  },
  {
   "cell_type": "code",
   "execution_count": 138,
   "metadata": {},
   "outputs": [],
   "source": [
    "import re\n",
    "import pandas as pd\n",
    "import numpy as np\n",
    "# from mlutils import dataset, connector\n",
    "import scipy.stats\n",
    "from scipy.stats import *\n",
    "from sklearn.preprocessing import StandardScaler\n",
    "import math\n",
    "import matplotlib.pyplot as plt\n",
    "import warnings\n",
    "import statsmodels.api as sm \n",
    "import seaborn as sns\n",
    "import pylab as py \n",
    "warnings.filterwarnings('ignore')\n",
    "%matplotlib inline"
   ]
  },
  {
   "cell_type": "code",
   "execution_count": 139,
   "metadata": {},
   "outputs": [],
   "source": [
    "df = pd.read_csv('vehicles.csv')"
   ]
  },
  {
   "cell_type": "code",
   "execution_count": 140,
   "metadata": {},
   "outputs": [
    {
     "data": {
      "text/html": [
       "<div>\n",
       "<style scoped>\n",
       "    .dataframe tbody tr th:only-of-type {\n",
       "        vertical-align: middle;\n",
       "    }\n",
       "\n",
       "    .dataframe tbody tr th {\n",
       "        vertical-align: top;\n",
       "    }\n",
       "\n",
       "    .dataframe thead th {\n",
       "        text-align: right;\n",
       "    }\n",
       "</style>\n",
       "<table border=\"1\" class=\"dataframe\">\n",
       "  <thead>\n",
       "    <tr style=\"text-align: right;\">\n",
       "      <th></th>\n",
       "      <th>Unnamed: 0</th>\n",
       "      <th>id</th>\n",
       "      <th>url</th>\n",
       "      <th>region</th>\n",
       "      <th>region_url</th>\n",
       "      <th>price</th>\n",
       "      <th>year</th>\n",
       "      <th>manufacturer</th>\n",
       "      <th>model</th>\n",
       "      <th>condition</th>\n",
       "      <th>...</th>\n",
       "      <th>drive</th>\n",
       "      <th>size</th>\n",
       "      <th>type</th>\n",
       "      <th>paint_color</th>\n",
       "      <th>image_url</th>\n",
       "      <th>description</th>\n",
       "      <th>state</th>\n",
       "      <th>lat</th>\n",
       "      <th>long</th>\n",
       "      <th>posting_date</th>\n",
       "    </tr>\n",
       "  </thead>\n",
       "  <tbody>\n",
       "    <tr>\n",
       "      <th>0</th>\n",
       "      <td>0</td>\n",
       "      <td>7240372487</td>\n",
       "      <td>https://auburn.craigslist.org/ctd/d/auburn-uni...</td>\n",
       "      <td>auburn</td>\n",
       "      <td>https://auburn.craigslist.org</td>\n",
       "      <td>35990</td>\n",
       "      <td>2010.0</td>\n",
       "      <td>chevrolet</td>\n",
       "      <td>corvette grand sport</td>\n",
       "      <td>good</td>\n",
       "      <td>...</td>\n",
       "      <td>rwd</td>\n",
       "      <td>NaN</td>\n",
       "      <td>other</td>\n",
       "      <td>NaN</td>\n",
       "      <td>https://images.craigslist.org/00N0N_ipkbHVZYf4...</td>\n",
       "      <td>Carvana is the safer way to buy a car During t...</td>\n",
       "      <td>al</td>\n",
       "      <td>32.590000</td>\n",
       "      <td>-85.480000</td>\n",
       "      <td>2020-12-02T08:11:30-0600</td>\n",
       "    </tr>\n",
       "    <tr>\n",
       "      <th>1</th>\n",
       "      <td>1</td>\n",
       "      <td>7240309422</td>\n",
       "      <td>https://auburn.craigslist.org/cto/d/auburn-201...</td>\n",
       "      <td>auburn</td>\n",
       "      <td>https://auburn.craigslist.org</td>\n",
       "      <td>7500</td>\n",
       "      <td>2014.0</td>\n",
       "      <td>hyundai</td>\n",
       "      <td>sonata</td>\n",
       "      <td>excellent</td>\n",
       "      <td>...</td>\n",
       "      <td>fwd</td>\n",
       "      <td>NaN</td>\n",
       "      <td>sedan</td>\n",
       "      <td>NaN</td>\n",
       "      <td>https://images.craigslist.org/00s0s_gBHYmJ5o7y...</td>\n",
       "      <td>I'll move to another city and try to sell my c...</td>\n",
       "      <td>al</td>\n",
       "      <td>32.547500</td>\n",
       "      <td>-85.468200</td>\n",
       "      <td>2020-12-02T02:11:50-0600</td>\n",
       "    </tr>\n",
       "    <tr>\n",
       "      <th>2</th>\n",
       "      <td>2</td>\n",
       "      <td>7240224296</td>\n",
       "      <td>https://auburn.craigslist.org/cto/d/auburn-200...</td>\n",
       "      <td>auburn</td>\n",
       "      <td>https://auburn.craigslist.org</td>\n",
       "      <td>4900</td>\n",
       "      <td>2006.0</td>\n",
       "      <td>bmw</td>\n",
       "      <td>x3 3.0i</td>\n",
       "      <td>good</td>\n",
       "      <td>...</td>\n",
       "      <td>NaN</td>\n",
       "      <td>NaN</td>\n",
       "      <td>SUV</td>\n",
       "      <td>blue</td>\n",
       "      <td>https://images.craigslist.org/00B0B_5zgEGWPOrt...</td>\n",
       "      <td>Clean 2006 BMW X3 3.0I.  Beautiful and rare Bl...</td>\n",
       "      <td>al</td>\n",
       "      <td>32.616807</td>\n",
       "      <td>-85.464149</td>\n",
       "      <td>2020-12-01T19:50:41-0600</td>\n",
       "    </tr>\n",
       "    <tr>\n",
       "      <th>3</th>\n",
       "      <td>3</td>\n",
       "      <td>7240103965</td>\n",
       "      <td>https://auburn.craigslist.org/cto/d/lanett-tru...</td>\n",
       "      <td>auburn</td>\n",
       "      <td>https://auburn.craigslist.org</td>\n",
       "      <td>2000</td>\n",
       "      <td>1974.0</td>\n",
       "      <td>chevrolet</td>\n",
       "      <td>c-10</td>\n",
       "      <td>good</td>\n",
       "      <td>...</td>\n",
       "      <td>rwd</td>\n",
       "      <td>full-size</td>\n",
       "      <td>pickup</td>\n",
       "      <td>blue</td>\n",
       "      <td>https://images.craigslist.org/00M0M_6o7KcDpArw...</td>\n",
       "      <td>1974 chev. truck (LONG BED) NEW starter front ...</td>\n",
       "      <td>al</td>\n",
       "      <td>32.861600</td>\n",
       "      <td>-85.216100</td>\n",
       "      <td>2020-12-01T15:54:45-0600</td>\n",
       "    </tr>\n",
       "    <tr>\n",
       "      <th>4</th>\n",
       "      <td>4</td>\n",
       "      <td>7239983776</td>\n",
       "      <td>https://auburn.craigslist.org/cto/d/auburn-200...</td>\n",
       "      <td>auburn</td>\n",
       "      <td>https://auburn.craigslist.org</td>\n",
       "      <td>19500</td>\n",
       "      <td>2005.0</td>\n",
       "      <td>ford</td>\n",
       "      <td>f350 lariat</td>\n",
       "      <td>excellent</td>\n",
       "      <td>...</td>\n",
       "      <td>4wd</td>\n",
       "      <td>full-size</td>\n",
       "      <td>pickup</td>\n",
       "      <td>blue</td>\n",
       "      <td>https://images.craigslist.org/00p0p_b95l1EgUfl...</td>\n",
       "      <td>2005 Ford F350 Lariat (Bullet Proofed). This t...</td>\n",
       "      <td>al</td>\n",
       "      <td>32.547500</td>\n",
       "      <td>-85.468200</td>\n",
       "      <td>2020-12-01T12:53:56-0600</td>\n",
       "    </tr>\n",
       "  </tbody>\n",
       "</table>\n",
       "<p>5 rows × 26 columns</p>\n",
       "</div>"
      ],
      "text/plain": [
       "   Unnamed: 0          id                                                url  \\\n",
       "0           0  7240372487  https://auburn.craigslist.org/ctd/d/auburn-uni...   \n",
       "1           1  7240309422  https://auburn.craigslist.org/cto/d/auburn-201...   \n",
       "2           2  7240224296  https://auburn.craigslist.org/cto/d/auburn-200...   \n",
       "3           3  7240103965  https://auburn.craigslist.org/cto/d/lanett-tru...   \n",
       "4           4  7239983776  https://auburn.craigslist.org/cto/d/auburn-200...   \n",
       "\n",
       "   region                     region_url  price    year manufacturer  \\\n",
       "0  auburn  https://auburn.craigslist.org  35990  2010.0    chevrolet   \n",
       "1  auburn  https://auburn.craigslist.org   7500  2014.0      hyundai   \n",
       "2  auburn  https://auburn.craigslist.org   4900  2006.0          bmw   \n",
       "3  auburn  https://auburn.craigslist.org   2000  1974.0    chevrolet   \n",
       "4  auburn  https://auburn.craigslist.org  19500  2005.0         ford   \n",
       "\n",
       "                  model  condition  ... drive       size    type paint_color  \\\n",
       "0  corvette grand sport       good  ...   rwd        NaN   other         NaN   \n",
       "1                sonata  excellent  ...   fwd        NaN   sedan         NaN   \n",
       "2               x3 3.0i       good  ...   NaN        NaN     SUV        blue   \n",
       "3                  c-10       good  ...   rwd  full-size  pickup        blue   \n",
       "4           f350 lariat  excellent  ...   4wd  full-size  pickup        blue   \n",
       "\n",
       "                                           image_url  \\\n",
       "0  https://images.craigslist.org/00N0N_ipkbHVZYf4...   \n",
       "1  https://images.craigslist.org/00s0s_gBHYmJ5o7y...   \n",
       "2  https://images.craigslist.org/00B0B_5zgEGWPOrt...   \n",
       "3  https://images.craigslist.org/00M0M_6o7KcDpArw...   \n",
       "4  https://images.craigslist.org/00p0p_b95l1EgUfl...   \n",
       "\n",
       "                                         description state        lat  \\\n",
       "0  Carvana is the safer way to buy a car During t...    al  32.590000   \n",
       "1  I'll move to another city and try to sell my c...    al  32.547500   \n",
       "2  Clean 2006 BMW X3 3.0I.  Beautiful and rare Bl...    al  32.616807   \n",
       "3  1974 chev. truck (LONG BED) NEW starter front ...    al  32.861600   \n",
       "4  2005 Ford F350 Lariat (Bullet Proofed). This t...    al  32.547500   \n",
       "\n",
       "        long              posting_date  \n",
       "0 -85.480000  2020-12-02T08:11:30-0600  \n",
       "1 -85.468200  2020-12-02T02:11:50-0600  \n",
       "2 -85.464149  2020-12-01T19:50:41-0600  \n",
       "3 -85.216100  2020-12-01T15:54:45-0600  \n",
       "4 -85.468200  2020-12-01T12:53:56-0600  \n",
       "\n",
       "[5 rows x 26 columns]"
      ]
     },
     "execution_count": 140,
     "metadata": {},
     "output_type": "execute_result"
    }
   ],
   "source": [
    "df.head()"
   ]
  },
  {
   "cell_type": "code",
   "execution_count": 142,
   "metadata": {},
   "outputs": [
    {
     "data": {
      "text/plain": [
       "(458213, 26)"
      ]
     },
     "execution_count": 142,
     "metadata": {},
     "output_type": "execute_result"
    }
   ],
   "source": [
    "df.shape"
   ]
  },
  {
   "cell_type": "code",
   "execution_count": 143,
   "metadata": {},
   "outputs": [
    {
     "data": {
      "text/plain": [
       "Unnamed: 0        int64\n",
       "id                int64\n",
       "url              object\n",
       "region           object\n",
       "region_url       object\n",
       "price             int64\n",
       "year            float64\n",
       "manufacturer     object\n",
       "model            object\n",
       "condition        object\n",
       "cylinders        object\n",
       "fuel             object\n",
       "odometer        float64\n",
       "title_status     object\n",
       "transmission     object\n",
       "VIN              object\n",
       "drive            object\n",
       "size             object\n",
       "type             object\n",
       "paint_color      object\n",
       "image_url        object\n",
       "description      object\n",
       "state            object\n",
       "lat             float64\n",
       "long            float64\n",
       "posting_date     object\n",
       "dtype: object"
      ]
     },
     "execution_count": 143,
     "metadata": {},
     "output_type": "execute_result"
    }
   ],
   "source": [
    "df.dtypes"
   ]
  },
  {
   "cell_type": "code",
   "execution_count": 144,
   "metadata": {},
   "outputs": [
    {
     "data": {
      "text/plain": [
       "Index(['Unnamed: 0', 'id', 'url', 'region', 'region_url', 'price', 'year',\n",
       "       'manufacturer', 'model', 'condition', 'cylinders', 'fuel', 'odometer',\n",
       "       'title_status', 'transmission', 'VIN', 'drive', 'size', 'type',\n",
       "       'paint_color', 'image_url', 'description', 'state', 'lat', 'long',\n",
       "       'posting_date'],\n",
       "      dtype='object')"
      ]
     },
     "execution_count": 144,
     "metadata": {},
     "output_type": "execute_result"
    }
   ],
   "source": [
    "df.columns\n"
   ]
  },
  {
   "cell_type": "code",
   "execution_count": 145,
   "metadata": {},
   "outputs": [],
   "source": [
    "columns = ['id','price','year','manufacturer','condition','odometer']"
   ]
  },
  {
   "cell_type": "code",
   "execution_count": 146,
   "metadata": {},
   "outputs": [],
   "source": [
    "df = df[columns]"
   ]
  },
  {
   "cell_type": "code",
   "execution_count": 147,
   "metadata": {},
   "outputs": [],
   "source": [
    "df['year'] = df['year'].apply(lambda x: str(int(x)) if x > 0   else x)"
   ]
  },
  {
   "cell_type": "code",
   "execution_count": 148,
   "metadata": {},
   "outputs": [
    {
     "data": {
      "text/html": [
       "<div>\n",
       "<style scoped>\n",
       "    .dataframe tbody tr th:only-of-type {\n",
       "        vertical-align: middle;\n",
       "    }\n",
       "\n",
       "    .dataframe tbody tr th {\n",
       "        vertical-align: top;\n",
       "    }\n",
       "\n",
       "    .dataframe thead th {\n",
       "        text-align: right;\n",
       "    }\n",
       "</style>\n",
       "<table border=\"1\" class=\"dataframe\">\n",
       "  <thead>\n",
       "    <tr style=\"text-align: right;\">\n",
       "      <th></th>\n",
       "      <th>id</th>\n",
       "      <th>price</th>\n",
       "      <th>year</th>\n",
       "      <th>manufacturer</th>\n",
       "      <th>condition</th>\n",
       "      <th>odometer</th>\n",
       "    </tr>\n",
       "  </thead>\n",
       "  <tbody>\n",
       "    <tr>\n",
       "      <th>0</th>\n",
       "      <td>7240372487</td>\n",
       "      <td>35990</td>\n",
       "      <td>2010</td>\n",
       "      <td>chevrolet</td>\n",
       "      <td>good</td>\n",
       "      <td>32742.0</td>\n",
       "    </tr>\n",
       "    <tr>\n",
       "      <th>1</th>\n",
       "      <td>7240309422</td>\n",
       "      <td>7500</td>\n",
       "      <td>2014</td>\n",
       "      <td>hyundai</td>\n",
       "      <td>excellent</td>\n",
       "      <td>93600.0</td>\n",
       "    </tr>\n",
       "    <tr>\n",
       "      <th>2</th>\n",
       "      <td>7240224296</td>\n",
       "      <td>4900</td>\n",
       "      <td>2006</td>\n",
       "      <td>bmw</td>\n",
       "      <td>good</td>\n",
       "      <td>87046.0</td>\n",
       "    </tr>\n",
       "    <tr>\n",
       "      <th>3</th>\n",
       "      <td>7240103965</td>\n",
       "      <td>2000</td>\n",
       "      <td>1974</td>\n",
       "      <td>chevrolet</td>\n",
       "      <td>good</td>\n",
       "      <td>190000.0</td>\n",
       "    </tr>\n",
       "    <tr>\n",
       "      <th>4</th>\n",
       "      <td>7239983776</td>\n",
       "      <td>19500</td>\n",
       "      <td>2005</td>\n",
       "      <td>ford</td>\n",
       "      <td>excellent</td>\n",
       "      <td>116000.0</td>\n",
       "    </tr>\n",
       "    <tr>\n",
       "      <th>5</th>\n",
       "      <td>7239776805</td>\n",
       "      <td>29590</td>\n",
       "      <td>2016</td>\n",
       "      <td>toyota</td>\n",
       "      <td>good</td>\n",
       "      <td>33290.0</td>\n",
       "    </tr>\n",
       "    <tr>\n",
       "      <th>6</th>\n",
       "      <td>7239425036</td>\n",
       "      <td>39990</td>\n",
       "      <td>2012</td>\n",
       "      <td>ford</td>\n",
       "      <td>good</td>\n",
       "      <td>9692.0</td>\n",
       "    </tr>\n",
       "    <tr>\n",
       "      <th>7</th>\n",
       "      <td>7238667661</td>\n",
       "      <td>41990</td>\n",
       "      <td>2012</td>\n",
       "      <td>chevrolet</td>\n",
       "      <td>good</td>\n",
       "      <td>2778.0</td>\n",
       "    </tr>\n",
       "    <tr>\n",
       "      <th>8</th>\n",
       "      <td>7238127696</td>\n",
       "      <td>31990</td>\n",
       "      <td>2017</td>\n",
       "      <td>jeep</td>\n",
       "      <td>good</td>\n",
       "      <td>29614.0</td>\n",
       "    </tr>\n",
       "    <tr>\n",
       "      <th>9</th>\n",
       "      <td>7237779886</td>\n",
       "      <td>490</td>\n",
       "      <td>2019</td>\n",
       "      <td>ford</td>\n",
       "      <td>excellent</td>\n",
       "      <td>4775.0</td>\n",
       "    </tr>\n",
       "  </tbody>\n",
       "</table>\n",
       "</div>"
      ],
      "text/plain": [
       "           id  price  year manufacturer  condition  odometer\n",
       "0  7240372487  35990  2010    chevrolet       good   32742.0\n",
       "1  7240309422   7500  2014      hyundai  excellent   93600.0\n",
       "2  7240224296   4900  2006          bmw       good   87046.0\n",
       "3  7240103965   2000  1974    chevrolet       good  190000.0\n",
       "4  7239983776  19500  2005         ford  excellent  116000.0\n",
       "5  7239776805  29590  2016       toyota       good   33290.0\n",
       "6  7239425036  39990  2012         ford       good    9692.0\n",
       "7  7238667661  41990  2012    chevrolet       good    2778.0\n",
       "8  7238127696  31990  2017         jeep       good   29614.0\n",
       "9  7237779886    490  2019         ford  excellent    4775.0"
      ]
     },
     "execution_count": 148,
     "metadata": {},
     "output_type": "execute_result"
    }
   ],
   "source": [
    "df.head(10)"
   ]
  },
  {
   "cell_type": "code",
   "execution_count": 149,
   "metadata": {},
   "outputs": [
    {
     "data": {
      "text/html": [
       "<div>\n",
       "<style scoped>\n",
       "    .dataframe tbody tr th:only-of-type {\n",
       "        vertical-align: middle;\n",
       "    }\n",
       "\n",
       "    .dataframe tbody tr th {\n",
       "        vertical-align: top;\n",
       "    }\n",
       "\n",
       "    .dataframe thead th {\n",
       "        text-align: right;\n",
       "    }\n",
       "</style>\n",
       "<table border=\"1\" class=\"dataframe\">\n",
       "  <thead>\n",
       "    <tr style=\"text-align: right;\">\n",
       "      <th></th>\n",
       "      <th>id</th>\n",
       "      <th>price</th>\n",
       "      <th>odometer</th>\n",
       "    </tr>\n",
       "  </thead>\n",
       "  <tbody>\n",
       "    <tr>\n",
       "      <th>count</th>\n",
       "      <td>4.582130e+05</td>\n",
       "      <td>4.582130e+05</td>\n",
       "      <td>4.029100e+05</td>\n",
       "    </tr>\n",
       "    <tr>\n",
       "      <th>mean</th>\n",
       "      <td>7.235233e+09</td>\n",
       "      <td>4.042093e+04</td>\n",
       "      <td>1.016698e+05</td>\n",
       "    </tr>\n",
       "    <tr>\n",
       "      <th>std</th>\n",
       "      <td>4.594362e+06</td>\n",
       "      <td>8.194599e+06</td>\n",
       "      <td>3.228623e+06</td>\n",
       "    </tr>\n",
       "    <tr>\n",
       "      <th>min</th>\n",
       "      <td>7.208550e+09</td>\n",
       "      <td>0.000000e+00</td>\n",
       "      <td>0.000000e+00</td>\n",
       "    </tr>\n",
       "    <tr>\n",
       "      <th>25%</th>\n",
       "      <td>7.231953e+09</td>\n",
       "      <td>4.900000e+03</td>\n",
       "      <td>4.087700e+04</td>\n",
       "    </tr>\n",
       "    <tr>\n",
       "      <th>50%</th>\n",
       "      <td>7.236409e+09</td>\n",
       "      <td>1.099500e+04</td>\n",
       "      <td>8.764100e+04</td>\n",
       "    </tr>\n",
       "    <tr>\n",
       "      <th>75%</th>\n",
       "      <td>7.239321e+09</td>\n",
       "      <td>2.149500e+04</td>\n",
       "      <td>1.340000e+05</td>\n",
       "    </tr>\n",
       "    <tr>\n",
       "      <th>max</th>\n",
       "      <td>7.241019e+09</td>\n",
       "      <td>3.615215e+09</td>\n",
       "      <td>2.043756e+09</td>\n",
       "    </tr>\n",
       "  </tbody>\n",
       "</table>\n",
       "</div>"
      ],
      "text/plain": [
       "                 id         price      odometer\n",
       "count  4.582130e+05  4.582130e+05  4.029100e+05\n",
       "mean   7.235233e+09  4.042093e+04  1.016698e+05\n",
       "std    4.594362e+06  8.194599e+06  3.228623e+06\n",
       "min    7.208550e+09  0.000000e+00  0.000000e+00\n",
       "25%    7.231953e+09  4.900000e+03  4.087700e+04\n",
       "50%    7.236409e+09  1.099500e+04  8.764100e+04\n",
       "75%    7.239321e+09  2.149500e+04  1.340000e+05\n",
       "max    7.241019e+09  3.615215e+09  2.043756e+09"
      ]
     },
     "execution_count": 149,
     "metadata": {},
     "output_type": "execute_result"
    }
   ],
   "source": [
    "df.describe()"
   ]
  },
  {
   "cell_type": "code",
   "execution_count": 14,
   "metadata": {},
   "outputs": [
    {
     "data": {
      "text/plain": [
       "id                   0\n",
       "price                0\n",
       "year              1050\n",
       "manufacturer     18220\n",
       "condition       192940\n",
       "odometer         55303\n",
       "dtype: int64"
      ]
     },
     "execution_count": 14,
     "metadata": {},
     "output_type": "execute_result"
    }
   ],
   "source": [
    "df.isna().sum()"
   ]
  },
  {
   "cell_type": "code",
   "execution_count": 15,
   "metadata": {},
   "outputs": [
    {
     "data": {
      "text/plain": [
       "<matplotlib.axes._subplots.AxesSubplot at 0x2c32a9bc520>"
      ]
     },
     "execution_count": 15,
     "metadata": {},
     "output_type": "execute_result"
    },
    {
     "data": {
      "image/png": "[encoded data removed]",
      "text/plain": [
       "<Figure size 432x288 with 1 Axes>"
      ]
     },
     "metadata": {
      "needs_background": "light"
     },
     "output_type": "display_data"
    }
   ],
   "source": [
    "df['price'].hist()"
   ]
  },
  {
   "cell_type": "code",
   "execution_count": 16,
   "metadata": {},
   "outputs": [],
   "source": [
    "def standarise(column,pct,pct_lower):\n",
    "    sc = StandardScaler() \n",
    "    y = df[column][df[column].notnull()].to_list()\n",
    "    y.sort()\n",
    "    len_y = len(y)\n",
    "    y = y[int(pct_lower * len_y):int(len_y * pct)]\n",
    "    len_y = len(y)\n",
    "    yy=([[x] for x in y])\n",
    "    sc.fit(yy)\n",
    "    y_std =sc.transform(yy)\n",
    "    y_std = y_std.flatten()\n",
    "    return y_std,len_y,y"
   ]
  },
  {
   "cell_type": "code",
   "execution_count": 17,
   "metadata": {},
   "outputs": [],
   "source": [
    "def fit_distribution(column,pct,pct_lower):\n",
    "    # Set up list of candidate distributions to use\n",
    "    # See https://docs.scipy.org/doc/scipy/reference/stats.html for more\n",
    "    y_std,size,y_org = standarise(column,pct,pct_lower)\n",
    "    dist_names = ['weibull_min','norm','weibull_max','beta',\n",
    "                 'invgauss','uniform','gamma','expon', 'lognorm','pearson3','triang']\n",
    "\n",
    "    chi_square_statistics = []\n",
    "    # 11 bins\n",
    "    percentile_bins = np.linspace(0,100,11)\n",
    "    percentile_cutoffs = np.percentile(y_std, percentile_bins)\n",
    "    observed_frequency, bins = (np.histogram(y_std, bins=percentile_cutoffs))\n",
    "    cum_observed_frequency = np.cumsum(observed_frequency)\n",
    "\n",
    "    # Loop through candidate distributions\n",
    "\n",
    "    for distribution in dist_names:\n",
    "        # Set up distribution and get fitted distribution parameters\n",
    "        dist = getattr(scipy.stats, distribution)\n",
    "        param = dist.fit(y_std)\n",
    "        print(\"{}\\n{}\\n\".format(dist, param))\n",
    "      \n",
    "\n",
    "        # Get expected counts in percentile bins\n",
    "        # cdf of fitted sistrinution across bins\n",
    "        cdf_fitted = dist.cdf(percentile_cutoffs, *param)\n",
    "        expected_frequency = []\n",
    "        for bin in range(len(percentile_bins)-1):\n",
    "            expected_cdf_area = cdf_fitted[bin+1] - cdf_fitted[bin]\n",
    "            expected_frequency.append(expected_cdf_area)\n",
    "\n",
    "        # Chi-square Statistics\n",
    "        expected_frequency = np.array(expected_frequency) * size\n",
    "        cum_expected_frequency = np.cumsum(expected_frequency)\n",
    "        ss = round(sum (((cum_expected_frequency - cum_observed_frequency) ** 2) / cum_observed_frequency),0)\n",
    "        chi_square_statistics.append(ss)\n",
    "\n",
    "\n",
    "    #Sort by minimum ch-square statistics\n",
    "    results = pd.DataFrame()\n",
    "    results['Distribution'] = dist_names\n",
    "    results['chi_square'] = chi_square_statistics\n",
    "    results.sort_values(['chi_square'], inplace=True)\n",
    "\n",
    "\n",
    "    print ('\\nDistributions listed by Betterment of fit:')\n",
    "    print ('............................................')\n",
    "    print (results)"
   ]
  },
  {
   "cell_type": "code",
   "execution_count": 152,
   "metadata": {},
   "outputs": [
    {
     "name": "stdout",
     "output_type": "stream",
     "text": [
      "<scipy.stats._continuous_distns.weibull_min_gen object at 0x000002C323C296D0>\n",
      "(0.7632277149829556, -1.1754946479473236, 1.2882536570292253)\n",
      "\n",
      "<scipy.stats._continuous_distns.norm_gen object at 0x000002C323BC3790>\n",
      "(-8.911690259840561e-17, 0.9999999999999997)\n",
      "\n",
      "<scipy.stats._continuous_distns.weibull_max_gen object at 0x000002C323C29A60>\n",
      "(0.6631696425157605, 3.733945799149187, 1.2482130514042336)\n",
      "\n",
      "<scipy.stats._continuous_distns.beta_gen object at 0x000002C323C041F0>\n",
      "(0.7865637172457626, 3.550740734963806, -1.1754946479473236, 5.79718335298919)\n",
      "\n",
      "<scipy.stats._continuous_distns.invgauss_gen object at 0x000002C323C52E20>\n",
      "(0.535903945611452, -1.5527498969582751, 2.8974430723439992)\n",
      "\n",
      "<scipy.stats._continuous_distns.uniform_gen object at 0x000002C323CA7610>\n",
      "(-1.1754946479473234, 4.90944044709651)\n",
      "\n",
      "<scipy.stats._continuous_distns.gamma_gen object at 0x000002C323C36FD0>\n",
      "(0.6976229173184187, -1.1754946479473236, 1.3056723410201334)\n",
      "\n",
      "<scipy.stats._continuous_distns.expon_gen object at 0x000002C323C1D220>\n",
      "(-1.1754946479473234, 1.1754946479473234)\n",
      "\n",
      "<scipy.stats._continuous_distns.lognorm_gen object at 0x000002C323C6E1F0>\n",
      "(0.7239776224010441, -1.4707748023579015, 1.154752192779032)\n",
      "\n",
      "<scipy.stats._continuous_distns.pearson3_gen object at 0x000002C323C82610>\n",
      "(2.295625645830987, 8.903804083047191e-17, 1.3492478301824717)\n",
      "\n",
      "<scipy.stats._continuous_distns.triang_gen object at 0x000002C323CA1760>\n",
      "(4.676784334233846e-10, -1.1827976612383126, 4.917758033482377)\n",
      "\n",
      "\n",
      "Distributions listed by Betterment of fit:\n",
      "............................................\n",
      "   Distribution  chi_square\n",
      "7         expon     15086.0\n",
      "4      invgauss     25442.0\n",
      "8       lognorm     27478.0\n",
      "3          beta     31966.0\n",
      "0   weibull_min     42036.0\n",
      "9      pearson3     54787.0\n",
      "10       triang    160726.0\n",
      "6         gamma    211836.0\n",
      "1          norm    281148.0\n",
      "5       uniform    638378.0\n",
      "2   weibull_max   1663441.0\n"
     ]
    }
   ],
   "source": [
    "fit_distribution('price',0.99,0.01)"
   ]
  },
  {
   "cell_type": "code",
   "execution_count": 19,
   "metadata": {},
   "outputs": [],
   "source": [
    "y_std,len_y,y = standarise('price',0.99,0.01)"
   ]
  },
  {
   "cell_type": "code",
   "execution_count": 20,
   "metadata": {},
   "outputs": [
    {
     "data": {
      "text/plain": [
       "Text(0, 0.5, 'Frequency')"
      ]
     },
     "execution_count": 20,
     "metadata": {},
     "output_type": "execute_result"
    },
    {
     "data": {
      "image/png": "[encoded data removed]",
      "text/plain": [
       "<Figure size 432x288 with 1 Axes>"
      ]
     },
     "metadata": {
      "needs_background": "light"
     },
     "output_type": "display_data"
    }
   ],
   "source": [
    "plt.hist(y)\n",
    "plt.xlabel('Price')\n",
    "plt.ylabel('Frequency')"
   ]
  },
  {
   "cell_type": "code",
   "execution_count": null,
   "metadata": {},
   "outputs": [],
   "source": []
  },
  {
   "cell_type": "code",
   "execution_count": 151,
   "metadata": {},
   "outputs": [
    {
     "ename": "ValueError",
     "evalue": "x and y must have same first dimension, but have shapes (458213,) and (449048,)",
     "output_type": "error",
     "traceback": [
      "\u001b[1;31m---------------------------------------------------------------------------\u001b[0m",
      "\u001b[1;31mValueError\u001b[0m                                Traceback (most recent call last)",
      "\u001b[1;32m<ipython-input-151-1f7fdd32e735>\u001b[0m in \u001b[0;36m<module>\u001b[1;34m\u001b[0m\n\u001b[0;32m      3\u001b[0m \u001b[0maxes\u001b[0m\u001b[1;33m[\u001b[0m\u001b[1;36m0\u001b[0m\u001b[1;33m]\u001b[0m\u001b[1;33m.\u001b[0m\u001b[0mset_xlabel\u001b[0m\u001b[1;33m(\u001b[0m\u001b[1;34m'Price\\n\\nHistogram plot of Oberseved Data'\u001b[0m\u001b[1;33m)\u001b[0m\u001b[1;33m\u001b[0m\u001b[1;33m\u001b[0m\u001b[0m\n\u001b[0;32m      4\u001b[0m \u001b[0maxes\u001b[0m\u001b[1;33m[\u001b[0m\u001b[1;36m0\u001b[0m\u001b[1;33m]\u001b[0m\u001b[1;33m.\u001b[0m\u001b[0mset_ylabel\u001b[0m\u001b[1;33m(\u001b[0m\u001b[1;34m'Frequency'\u001b[0m\u001b[1;33m)\u001b[0m\u001b[1;33m\u001b[0m\u001b[1;33m\u001b[0m\u001b[0m\n\u001b[1;32m----> 5\u001b[1;33m \u001b[0maxes\u001b[0m\u001b[1;33m[\u001b[0m\u001b[1;36m1\u001b[0m\u001b[1;33m]\u001b[0m\u001b[1;33m.\u001b[0m\u001b[0mplot\u001b[0m\u001b[1;33m(\u001b[0m\u001b[0my\u001b[0m\u001b[1;33m,\u001b[0m\u001b[0mexpon\u001b[0m\u001b[1;33m.\u001b[0m\u001b[0mpdf\u001b[0m\u001b[1;33m(\u001b[0m\u001b[0my_std\u001b[0m\u001b[1;33m,\u001b[0m\u001b[1;33m-\u001b[0m\u001b[1;36m1.19\u001b[0m\u001b[1;33m,\u001b[0m \u001b[1;36m1.19\u001b[0m\u001b[1;33m)\u001b[0m\u001b[1;33m)\u001b[0m\u001b[1;33m\u001b[0m\u001b[1;33m\u001b[0m\u001b[0m\n\u001b[0m\u001b[0;32m      6\u001b[0m \u001b[0maxes\u001b[0m\u001b[1;33m[\u001b[0m\u001b[1;36m1\u001b[0m\u001b[1;33m]\u001b[0m\u001b[1;33m.\u001b[0m\u001b[0mset_xlabel\u001b[0m\u001b[1;33m(\u001b[0m\u001b[1;34m'Price\\n\\nExponential Distribution'\u001b[0m\u001b[1;33m)\u001b[0m\u001b[1;33m\u001b[0m\u001b[1;33m\u001b[0m\u001b[0m\n\u001b[0;32m      7\u001b[0m \u001b[0maxes\u001b[0m\u001b[1;33m[\u001b[0m\u001b[1;36m1\u001b[0m\u001b[1;33m]\u001b[0m\u001b[1;33m.\u001b[0m\u001b[0mset_ylabel\u001b[0m\u001b[1;33m(\u001b[0m\u001b[1;34m'pdf'\u001b[0m\u001b[1;33m)\u001b[0m\u001b[1;33m\u001b[0m\u001b[1;33m\u001b[0m\u001b[0m\n",
      "\u001b[1;32mD:\\Users\\admin\\anaconda3\\lib\\site-packages\\matplotlib\\axes\\_axes.py\u001b[0m in \u001b[0;36mplot\u001b[1;34m(self, scalex, scaley, data, *args, **kwargs)\u001b[0m\n\u001b[0;32m   1645\u001b[0m         \"\"\"\n\u001b[0;32m   1646\u001b[0m         \u001b[0mkwargs\u001b[0m \u001b[1;33m=\u001b[0m \u001b[0mcbook\u001b[0m\u001b[1;33m.\u001b[0m\u001b[0mnormalize_kwargs\u001b[0m\u001b[1;33m(\u001b[0m\u001b[0mkwargs\u001b[0m\u001b[1;33m,\u001b[0m \u001b[0mmlines\u001b[0m\u001b[1;33m.\u001b[0m\u001b[0mLine2D\u001b[0m\u001b[1;33m)\u001b[0m\u001b[1;33m\u001b[0m\u001b[1;33m\u001b[0m\u001b[0m\n\u001b[1;32m-> 1647\u001b[1;33m         \u001b[0mlines\u001b[0m \u001b[1;33m=\u001b[0m \u001b[1;33m[\u001b[0m\u001b[1;33m*\u001b[0m\u001b[0mself\u001b[0m\u001b[1;33m.\u001b[0m\u001b[0m_get_lines\u001b[0m\u001b[1;33m(\u001b[0m\u001b[1;33m*\u001b[0m\u001b[0margs\u001b[0m\u001b[1;33m,\u001b[0m \u001b[0mdata\u001b[0m\u001b[1;33m=\u001b[0m\u001b[0mdata\u001b[0m\u001b[1;33m,\u001b[0m \u001b[1;33m**\u001b[0m\u001b[0mkwargs\u001b[0m\u001b[1;33m)\u001b[0m\u001b[1;33m]\u001b[0m\u001b[1;33m\u001b[0m\u001b[1;33m\u001b[0m\u001b[0m\n\u001b[0m\u001b[0;32m   1648\u001b[0m         \u001b[1;32mfor\u001b[0m \u001b[0mline\u001b[0m \u001b[1;32min\u001b[0m \u001b[0mlines\u001b[0m\u001b[1;33m:\u001b[0m\u001b[1;33m\u001b[0m\u001b[1;33m\u001b[0m\u001b[0m\n\u001b[0;32m   1649\u001b[0m             \u001b[0mself\u001b[0m\u001b[1;33m.\u001b[0m\u001b[0madd_line\u001b[0m\u001b[1;33m(\u001b[0m\u001b[0mline\u001b[0m\u001b[1;33m)\u001b[0m\u001b[1;33m\u001b[0m\u001b[1;33m\u001b[0m\u001b[0m\n",
      "\u001b[1;32mD:\\Users\\admin\\anaconda3\\lib\\site-packages\\matplotlib\\axes\\_base.py\u001b[0m in \u001b[0;36m__call__\u001b[1;34m(self, *args, **kwargs)\u001b[0m\n\u001b[0;32m    214\u001b[0m                 \u001b[0mthis\u001b[0m \u001b[1;33m+=\u001b[0m \u001b[0margs\u001b[0m\u001b[1;33m[\u001b[0m\u001b[1;36m0\u001b[0m\u001b[1;33m]\u001b[0m\u001b[1;33m,\u001b[0m\u001b[1;33m\u001b[0m\u001b[1;33m\u001b[0m\u001b[0m\n\u001b[0;32m    215\u001b[0m                 \u001b[0margs\u001b[0m \u001b[1;33m=\u001b[0m \u001b[0margs\u001b[0m\u001b[1;33m[\u001b[0m\u001b[1;36m1\u001b[0m\u001b[1;33m:\u001b[0m\u001b[1;33m]\u001b[0m\u001b[1;33m\u001b[0m\u001b[1;33m\u001b[0m\u001b[0m\n\u001b[1;32m--> 216\u001b[1;33m             \u001b[1;32myield\u001b[0m \u001b[1;32mfrom\u001b[0m \u001b[0mself\u001b[0m\u001b[1;33m.\u001b[0m\u001b[0m_plot_args\u001b[0m\u001b[1;33m(\u001b[0m\u001b[0mthis\u001b[0m\u001b[1;33m,\u001b[0m \u001b[0mkwargs\u001b[0m\u001b[1;33m)\u001b[0m\u001b[1;33m\u001b[0m\u001b[1;33m\u001b[0m\u001b[0m\n\u001b[0m\u001b[0;32m    217\u001b[0m \u001b[1;33m\u001b[0m\u001b[0m\n\u001b[0;32m    218\u001b[0m     \u001b[1;32mdef\u001b[0m \u001b[0mget_next_color\u001b[0m\u001b[1;33m(\u001b[0m\u001b[0mself\u001b[0m\u001b[1;33m)\u001b[0m\u001b[1;33m:\u001b[0m\u001b[1;33m\u001b[0m\u001b[1;33m\u001b[0m\u001b[0m\n",
      "\u001b[1;32mD:\\Users\\admin\\anaconda3\\lib\\site-packages\\matplotlib\\axes\\_base.py\u001b[0m in \u001b[0;36m_plot_args\u001b[1;34m(self, tup, kwargs)\u001b[0m\n\u001b[0;32m    340\u001b[0m \u001b[1;33m\u001b[0m\u001b[0m\n\u001b[0;32m    341\u001b[0m         \u001b[1;32mif\u001b[0m \u001b[0mx\u001b[0m\u001b[1;33m.\u001b[0m\u001b[0mshape\u001b[0m\u001b[1;33m[\u001b[0m\u001b[1;36m0\u001b[0m\u001b[1;33m]\u001b[0m \u001b[1;33m!=\u001b[0m \u001b[0my\u001b[0m\u001b[1;33m.\u001b[0m\u001b[0mshape\u001b[0m\u001b[1;33m[\u001b[0m\u001b[1;36m0\u001b[0m\u001b[1;33m]\u001b[0m\u001b[1;33m:\u001b[0m\u001b[1;33m\u001b[0m\u001b[1;33m\u001b[0m\u001b[0m\n\u001b[1;32m--> 342\u001b[1;33m             raise ValueError(f\"x and y must have same first dimension, but \"\n\u001b[0m\u001b[0;32m    343\u001b[0m                              f\"have shapes {x.shape} and {y.shape}\")\n\u001b[0;32m    344\u001b[0m         \u001b[1;32mif\u001b[0m \u001b[0mx\u001b[0m\u001b[1;33m.\u001b[0m\u001b[0mndim\u001b[0m \u001b[1;33m>\u001b[0m \u001b[1;36m2\u001b[0m \u001b[1;32mor\u001b[0m \u001b[0my\u001b[0m\u001b[1;33m.\u001b[0m\u001b[0mndim\u001b[0m \u001b[1;33m>\u001b[0m \u001b[1;36m2\u001b[0m\u001b[1;33m:\u001b[0m\u001b[1;33m\u001b[0m\u001b[1;33m\u001b[0m\u001b[0m\n",
      "\u001b[1;31mValueError\u001b[0m: x and y must have same first dimension, but have shapes (458213,) and (449048,)"
     ]
    },
    {
     "data": {
      "image/png": "[encoded data removed]",
      "text/plain": [
       "<Figure size 648x360 with 3 Axes>"
      ]
     },
     "metadata": {
      "needs_background": "light"
     },
     "output_type": "display_data"
    }
   ],
   "source": [
    "fig, axes = plt.subplots(nrows=1, ncols=3, figsize=(9, 5))\n",
    "axes[0].hist(y)\n",
    "axes[0].set_xlabel('Price\\n\\nHistogram plot of Oberseved Data')\n",
    "axes[0].set_ylabel('Frequency')\n",
    "axes[1].plot(y,expon.pdf(y_std,-1.19, 1.19))\n",
    "axes[1].set_xlabel('Price\\n\\nExponential Distribution')\n",
    "axes[1].set_ylabel('pdf')\n",
    "axes[2].plot(y,invgauss.pdf(y_std,0.45, -1.64, 3.61))\n",
    "axes[2].set_xlabel('Price\\n\\nInverse-Gaussian Distribution')\n",
    "axes[2].set_ylabel('pdf')\n",
    "fig.tight_layout()"
   ]
  },
  {
   "cell_type": "code",
   "execution_count": 22,
   "metadata": {},
   "outputs": [
    {
     "data": {
      "image/png": "[encoded data removed]",
      "text/plain": [
       "<Figure size 432x288 with 1 Axes>"
      ]
     },
     "metadata": {
      "needs_background": "light"
     },
     "output_type": "display_data"
    }
   ],
   "source": [
    "f = plt.figure()\n",
    "plt.plot(y,expon.pdf(y_std,-1.19, 1.19))\n",
    "f.show()"
   ]
  },
  {
   "cell_type": "code",
   "execution_count": 23,
   "metadata": {},
   "outputs": [
    {
     "data": {
      "image/png": "[encoded data removed]",
      "text/plain": [
       "<Figure size 432x288 with 1 Axes>"
      ]
     },
     "metadata": {
      "needs_background": "light"
     },
     "output_type": "display_data"
    }
   ],
   "source": [
    "f = plt.figure()\n",
    "plt.plot(y,invgauss.pdf(y_std,0.45, -1.64, 3.61))\n",
    "f.show()"
   ]
  },
  {
   "cell_type": "code",
   "execution_count": 24,
   "metadata": {},
   "outputs": [
    {
     "data": {
      "image/png": "[encoded data removed]",
      "text/plain": [
       "<Figure size 576x576 with 1 Axes>"
      ]
     },
     "metadata": {
      "needs_background": "light"
     },
     "output_type": "display_data"
    }
   ],
   "source": [
    "data_points = expon.rvs(-1.19, 1.19, size=2000)   \n",
    "data_points2 = invgauss.rvs(0.45, -1.64, 3.61,size = 2000) \n",
    "\n",
    "f, ax = plt.subplots(figsize=(8,8))\n",
    "ax.plot([-2, 8], [-2, 8], ls=\"--\", c=\".3\")\n",
    "\n",
    "percentile_bins = np.linspace(0,100,51)\n",
    "percentile_cutoffs1 = np.percentile(y_std, percentile_bins)\n",
    "percentile_cutoffs_expon= np.percentile(data_points, percentile_bins)\n",
    "\n",
    "\n",
    "percentile_cutoffs_invgauss = np.percentile(data_points2, percentile_bins)\n",
    "\n",
    "\n",
    "ax.scatter(percentile_cutoffs1,percentile_cutoffs_invgauss,c='r',label = 'Inverse-Gaussian Distribution',s = 40)\n",
    "ax.scatter(percentile_cutoffs1,percentile_cutoffs_expon,c='b',label = 'Exponential Distribution',s = 40)\n",
    "\n",
    "\n",
    "ax.set_xlabel('Theoretical cumulative distribution')\n",
    "ax.set_ylabel('Observed cumulative distribution')\n",
    "ax.legend()\n",
    "plt.show()\n"
   ]
  },
  {
   "cell_type": "code",
   "execution_count": 25,
   "metadata": {},
   "outputs": [
    {
     "name": "stdout",
     "output_type": "stream",
     "text": [
      "<scipy.stats._continuous_distns.weibull_min_gen object at 0x000002C323C296D0>\n",
      "(0.9818556223328978, -1.5654925164506055, 1.3417153395864205)\n",
      "\n",
      "<scipy.stats._continuous_distns.norm_gen object at 0x000002C323BC3790>\n",
      "(-4.6067742098813384e-18, 0.9999999999999999)\n",
      "\n",
      "<scipy.stats._continuous_distns.weibull_max_gen object at 0x000002C323C29A60>\n",
      "(11.299985620455182, 9.29041292024343, 9.72663874343157)\n",
      "\n",
      "<scipy.stats._continuous_distns.beta_gen object at 0x000002C323C041F0>\n",
      "(1.2217405829039478, 2.4662259863761506, -1.5751082764782347, 4.716015726064862)\n",
      "\n",
      "<scipy.stats._continuous_distns.invgauss_gen object at 0x000002C323C52E20>\n",
      "(0.1263726207689636, -2.9526290492352, 23.364467052069998)\n",
      "\n",
      "<scipy.stats._continuous_distns.uniform_gen object at 0x000002C323CA7610>\n",
      "(-1.5654925164506053, 4.59855705243684)\n",
      "\n",
      "<scipy.stats._continuous_distns.gamma_gen object at 0x000002C323C36FD0>\n",
      "(2.754826520049602, -1.8017391517440855, 0.6540273699589)\n",
      "\n",
      "<scipy.stats._continuous_distns.expon_gen object at 0x000002C323C1D220>\n",
      "(-1.5654925164506053, 1.5654925164506053)\n",
      "\n",
      "<scipy.stats._continuous_distns.lognorm_gen object at 0x000002C323C6E1F0>\n",
      "(0.3294092639466634, -3.088746407409829, 2.9286318388762727)\n",
      "\n",
      "<scipy.stats._continuous_distns.pearson3_gen object at 0x000002C323C82610>\n",
      "(1.2050031729940125, -3.927375847245833e-18, 1.0855433902514364)\n",
      "\n",
      "<scipy.stats._continuous_distns.triang_gen object at 0x000002C323CA1760>\n",
      "(0.06078393188665161, -1.6464661424790155, 4.691814144218304)\n",
      "\n",
      "\n",
      "Distributions listed by Betterment of fit:\n",
      "............................................\n",
      "   Distribution  chi_square\n",
      "3          beta      1709.0\n",
      "10       triang      2826.0\n",
      "9      pearson3     11507.0\n",
      "6         gamma     11508.0\n",
      "4      invgauss     19203.0\n",
      "8       lognorm     22233.0\n",
      "2   weibull_max     30098.0\n",
      "1          norm     74383.0\n",
      "7         expon    105710.0\n",
      "5       uniform    203751.0\n",
      "0   weibull_min    216115.0\n"
     ]
    }
   ],
   "source": [
    "fit_distribution('odometer',0.99,0.01)"
   ]
  },
  {
   "cell_type": "code",
   "execution_count": 26,
   "metadata": {},
   "outputs": [],
   "source": [
    "lst,len_lst,org_lst = standarise('odometer',0.99,0.01)"
   ]
  },
  {
   "cell_type": "code",
   "execution_count": 27,
   "metadata": {},
   "outputs": [
    {
     "data": {
      "text/plain": [
       "[10.0,\n",
       " 10.0,\n",
       " 10.0,\n",
       " 10.0,\n",
       " 10.0,\n",
       " 10.0,\n",
       " 10.0,\n",
       " 10.0,\n",
       " 10.0,\n",
       " 10.0,\n",
       " 10.0,\n",
       " 10.0,\n",
       " 10.0,\n",
       " 10.0,\n",
       " 10.0,\n",
       " 10.0,\n",
       " 10.0,\n",
       " 10.0,\n",
       " 10.0,\n",
       " 10.0]"
      ]
     },
     "execution_count": 27,
     "metadata": {},
     "output_type": "execute_result"
    }
   ],
   "source": [
    "org_lst[:20]"
   ]
  },
  {
   "cell_type": "code",
   "execution_count": 28,
   "metadata": {},
   "outputs": [
    {
     "data": {
      "image/png": "[encoded data removed]",
      "text/plain": [
       "<Figure size 648x360 with 3 Axes>"
      ]
     },
     "metadata": {
      "needs_background": "light"
     },
     "output_type": "display_data"
    }
   ],
   "source": [
    "fig, axes = plt.subplots(nrows=1, ncols=3, figsize=(9, 5))\n",
    "axes[0].hist(org_lst)\n",
    "axes[0].set_xlabel('Odometer (Distance)\\n\\nHistogram plot of Oberseved Data')\n",
    "axes[0].set_ylabel('Frequency')\n",
    "axes[1].plot(org_lst,beta.pdf(lst,1.51, 2.94, -1.71, 5.02))\n",
    "axes[1].set_xlabel('Odometer (Distance)\\n\\nBeta Distribution')\n",
    "axes[1].set_ylabel('pdf')\n",
    "axes[2].plot(org_lst,triang.pdf(lst,.12, -1.79, 4.90))\n",
    "axes[2].set_xlabel('Odometer (Distance)\\n\\nTriangular Distribution')\n",
    "axes[2].set_ylabel('pdf')\n",
    "fig.tight_layout()"
   ]
  },
  {
   "cell_type": "code",
   "execution_count": 29,
   "metadata": {},
   "outputs": [
    {
     "data": {
      "text/plain": [
       "(array([59762., 66622., 57134., 62693., 53911., 42037., 27458., 15059.,\n",
       "         6925.,  3250.]),\n",
       " array([1.00000e+01, 2.70090e+04, 5.40080e+04, 8.10070e+04, 1.08006e+05,\n",
       "        1.35005e+05, 1.62004e+05, 1.89003e+05, 2.16002e+05, 2.43001e+05,\n",
       "        2.70000e+05]),\n",
       " <a list of 10 Patch objects>)"
      ]
     },
     "execution_count": 29,
     "metadata": {},
     "output_type": "execute_result"
    },
    {
     "data": {
      "image/png": "[encoded data removed]",
      "text/plain": [
       "<Figure size 432x288 with 1 Axes>"
      ]
     },
     "metadata": {
      "needs_background": "light"
     },
     "output_type": "display_data"
    }
   ],
   "source": [
    "plt.hist(org_lst)"
   ]
  },
  {
   "cell_type": "code",
   "execution_count": 30,
   "metadata": {},
   "outputs": [
    {
     "data": {
      "image/png": "[encoded data removed]",
      "text/plain": [
       "<Figure size 432x288 with 1 Axes>"
      ]
     },
     "metadata": {
      "needs_background": "light"
     },
     "output_type": "display_data"
    }
   ],
   "source": [
    "f = plt.figure()\n",
    "plt.plot(org_lst,beta.pdf(lst,1.5111609633771699, 2.9428574390909983, -1.712121634564888, 5.022935095746597))\n",
    "f.show()"
   ]
  },
  {
   "cell_type": "code",
   "execution_count": 31,
   "metadata": {},
   "outputs": [
    {
     "data": {
      "image/png": "[encoded data removed]",
      "text/plain": [
       "<Figure size 432x288 with 1 Axes>"
      ]
     },
     "metadata": {
      "needs_background": "light"
     },
     "output_type": "display_data"
    }
   ],
   "source": [
    "f = plt.figure()\n",
    "plt.plot(org_lst,triang.pdf(lst,.12388009897125515, -1.7967712548899337, 4.908020533304843))\n",
    "f.show()"
   ]
  },
  {
   "cell_type": "code",
   "execution_count": 32,
   "metadata": {},
   "outputs": [
    {
     "data": {
      "image/png": "[encoded data removed]",
      "text/plain": [
       "<Figure size 576x576 with 1 Axes>"
      ]
     },
     "metadata": {
      "needs_background": "light"
     },
     "output_type": "display_data"
    }
   ],
   "source": [
    "data_points = beta.rvs(1.51, 2.94, -1.71, 5.02,size = 1000)    \n",
    "  \n",
    "data_points2 = triang.rvs(.12, -1.79, 4.90,size = 1000) \n",
    "\n",
    "f, ax = plt.subplots(figsize=(8,8))\n",
    "ax.plot([-2, 3], [-2, 3], ls=\"--\", c=\".3\")\n",
    "\n",
    "percentile_bins = np.linspace(0,100,101)\n",
    "percentile_cutoffs1 = np.percentile(lst, percentile_bins)\n",
    "percentile_cutoffs_beta = np.percentile(data_points, percentile_bins)\n",
    "\n",
    "\n",
    "percentile_cutoffs_triang = np.percentile(data_points2, percentile_bins)\n",
    "# print(percentile_cutoffs1,percentile_cutoffs2)\n",
    "\n",
    "ax.scatter(percentile_cutoffs1,percentile_cutoffs_beta,c='b',label = 'Beta Distribution')\n",
    "ax.scatter(percentile_cutoffs1,percentile_cutoffs_triang,c='r',label = 'Triangular Distribution',s = 40)\n",
    "\n",
    "\n",
    "ax.set_xlabel('Theoretical cumulative distribution')\n",
    "ax.set_ylabel('Observed cumulative distribution')\n",
    "ax.legend()\n",
    "plt.show()\n"
   ]
  },
  {
   "cell_type": "code",
   "execution_count": null,
   "metadata": {},
   "outputs": [],
   "source": []
  }
 ],
 "metadata": {
  "kernelspec": {
   "display_name": "Python 3",
   "language": "python",
   "name": "python3"
  },
  "language_info": {
   "codemirror_mode": {
    "name": "ipython",
    "version": 3
   },
   "file_extension": ".py",
   "mimetype": "text/x-python",
   "name": "python",
   "nbconvert_exporter": "python",
   "pygments_lexer": "ipython3",
   "version": "3.8.3"
  }
 },
 "nbformat": 4,
 "nbformat_minor": 2
}
