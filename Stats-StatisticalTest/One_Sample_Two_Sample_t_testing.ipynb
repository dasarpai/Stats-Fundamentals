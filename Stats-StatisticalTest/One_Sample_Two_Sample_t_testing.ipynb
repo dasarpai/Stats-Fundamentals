{
 "cells": [
  {
   "cell_type": "markdown",
   "metadata": {},
   "source": [
    "# One sample and two sample  (test for mean and not for proportion) "
   ]
  },
  {
   "cell_type": "markdown",
   "metadata": {},
   "source": [
    "## One sample test"
   ]
  },
  {
   "cell_type": "markdown",
   "metadata": {},
   "source": [
    "In one sample test, we compare the population parameter such as mean of a single sample of data collected from a single population. \n",
    "\n",
    "### 1) Z test\n",
    "\n",
    "A one sample Z test is one of the most basic types of hypothesis test. \n",
    "\n",
    "### Example 1: A principal of a prestigious city college claims that the average intelligence of the students of the college is above average. \n",
    "\n",
    "A random sample of 100 students IQ scores have  a mean score of 115. The mean population mean IQ is 100 with a standard deviation of 15.\n",
    "\n",
    "**Is there sufficient evidence to support the principal's claim?**\n"
   ]
  },
  {
   "cell_type": "markdown",
   "metadata": {},
   "source": [
    "### Solution: Let us work through the several required steps"
   ]
  },
  {
   "cell_type": "code",
   "execution_count": 1,
   "metadata": {},
   "outputs": [],
   "source": [
    "import numpy       as np\n",
    "import pandas      as pd\n",
    "import scipy.stats as stats"
   ]
  },
  {
   "cell_type": "markdown",
   "metadata": {},
   "source": [
    "### Step 1: Define null and alternative hypotheses"
   ]
  },
  {
   "cell_type": "markdown",
   "metadata": {},
   "source": [
    "In testing whether the mean IQ of the students is more than 100, the null hypothesis states that mean IQ, $\\mu$ equals 100. The alternative hypthesis states that the mean IQ, $\\mu$ is greater  than 100.\n",
    "* $H_0$: $\\mu$ = 100\n",
    "* $H_A$: $\\mu$ > 100"
   ]
  },
  {
   "cell_type": "markdown",
   "metadata": {},
   "source": [
    "### Step 2: Decide the significance level"
   ]
  },
  {
   "cell_type": "markdown",
   "metadata": {},
   "source": [
    "Here we select $\\alpha$ = 0.05 and it is given that n, sample size = 100."
   ]
  },
  {
   "cell_type": "markdown",
   "metadata": {},
   "source": [
    "### Step 3: Identify the test statistic"
   ]
  },
  {
   "cell_type": "markdown",
   "metadata": {},
   "source": [
    "We know the population standard deviation and the sample is a large sample, n>30. So you use the normal distribution and the $Z_STAT$ test statistic."
   ]
  },
  {
   "cell_type": "markdown",
   "metadata": {},
   "source": [
    "### Step 4: Calculate the critical value and test statistic"
   ]
  },
  {
   "cell_type": "code",
   "execution_count": 2,
   "metadata": {},
   "outputs": [
    {
     "name": "stdout",
     "output_type": "stream",
     "text": [
      "Value of Z critical is 1.640000\n"
     ]
    }
   ],
   "source": [
    "Zcrit = round(stats.norm.isf(q = 0.05),2)\n",
    "print('Value of Z critical is %3.6f' %Zcrit)              "
   ]
  },
  {
   "cell_type": "markdown",
   "metadata": {},
   "source": [
    "We know the $\\alpha$ is 0.05. So, the critical values of the $Z_STAT$ test statistic is 1.64"
   ]
  },
  {
   "cell_type": "markdown",
   "metadata": {},
   "source": [
    "We collect the sample data, calculate the test statistic. \n",
    "In our example, \n",
    "* $\\overline{X}$ = 115\n",
    "* $\\mu$          = 100\n",
    "* $\\sigma$       = 15\n",
    "* n              = 100\n",
    "* $Z_{STAT} = \\frac{\\overline{X} - \\mu} {\\frac{\\sigma}{\\sqrt{n}}}$ "
   ]
  },
  {
   "cell_type": "code",
   "execution_count": 3,
   "metadata": {},
   "outputs": [
    {
     "name": "stdout",
     "output_type": "stream",
     "text": [
      "Value of Z is 10.00000\n"
     ]
    }
   ],
   "source": [
    "XAvg  = 115\n",
    "mu    = 100\n",
    "sigma = 15\n",
    "n     = 100\n",
    "Z = (XAvg - mu)/(sigma/np.sqrt(n))\n",
    "print('Value of Z is %2.5f' %Z)"
   ]
  },
  {
   "cell_type": "markdown",
   "metadata": {},
   "source": [
    "### 5 Decide to reject or accept null hypothesis"
   ]
  },
  {
   "cell_type": "markdown",
   "metadata": {},
   "source": [
    "In this example, Z = 10 lies in the rejection region because, Z = 0.00047 > 1.64.\n",
    "\n",
    "So the statistical decision is to reject the null hypothesis.\n",
    "\n",
    "### So there is sufficient evidence  to prove that the mean average intelligence of the students of the college is above average.\n"
   ]
  },
  {
   "cell_type": "markdown",
   "metadata": {},
   "source": [
    "### 2) t test"
   ]
  },
  {
   "cell_type": "markdown",
   "metadata": {},
   "source": [
    "### Very rarely we know the variance of the population. \n",
    "\n",
    "A common strategy to assess hypothesis is to conduct a t test. A t test can tell whether two groups have the same mean. \n",
    "A t test can be estimated for:\n",
    "* 1) One sample t test\n",
    "* 2) Two sample t test (including paired t test)\n",
    "\n",
    "We assume that the samples are randomly selected, independent and come from a normally distributed population with unknown but equal variances."
   ]
  },
  {
   "cell_type": "markdown",
   "metadata": {},
   "source": [
    "### One sample t test"
   ]
  },
  {
   "cell_type": "code",
   "execution_count": 1,
   "metadata": {},
   "outputs": [],
   "source": [
    "from scipy.stats             import ttest_1samp,ttest_ind, wilcoxon\n",
    "from statsmodels.stats.power import ttest_power\n",
    "import matplotlib.pyplot     as     plt"
   ]
  },
  {
   "cell_type": "markdown",
   "metadata": {},
   "source": [
    "### Example 2\n",
    "\n",
    "Suppose that a doctor claims that 17 year olds have an average body temperature that is higher than the commonly accepted average human temperature of 98.6 degree F.\n",
    "\n",
    "A simple random statistical sample of 25 people, each of age 17 is selected. \n",
    "\n",
    "| ID | Temperature |\n",
    "| --- | ----- |\n",
    "| 1 | 98.56 | \n",
    "| 2 | 98.66 |\n",
    "| 3 | 97.54 |\n",
    "| 4 | 98.71 |\n",
    "| 5 | 99.22 |\n",
    "| 6 | 99.49 |\n",
    "| 7 | 98.14 |\n",
    "| 8 | 98.84 |\n",
    "| 9 | 99.28 |\n",
    "| 10 | 98.48 |\n",
    "| 11 | 98.88 |\n",
    "| 12 | 97.29 |\n",
    "| 13 | 98.88 |\n",
    "| 14 | 99.07 |\n",
    "| 15 | 98.81 |\n",
    "| 16 | 99.49 |\n",
    "| 17 | 98.57 |\n",
    "| 18 | 97.98 |\n",
    "| 19 | 97.75 |\n",
    "| 20 | 97.69 |\n",
    "| 21 | 99.28 |\n",
    "| 22 | 98.52 |\n",
    "| 23 | 98.82 |\n",
    "| 24 | 98.81 |\n",
    "| 25 | 98.22 |\n"
   ]
  },
  {
   "cell_type": "code",
   "execution_count": 5,
   "metadata": {},
   "outputs": [],
   "source": [
    "temperature = np.array([98.56, 98.66, 97.54, 98.71, 99.22, 99.49, 98.14, 98.84,\\\n",
    "                         99.28, 98.48, 98.88, 97.29, 98.88, 99.07, 98.81, 99.49,\\\n",
    "                         98.57, 97.98, 97.75, 97.69, 99.28, 98.52, 98.82, 98.81, 98.22])            "
   ]
  },
  {
   "cell_type": "code",
   "execution_count": 6,
   "metadata": {},
   "outputs": [
    {
     "name": "stdout",
     "output_type": "stream",
     "text": [
      "Mean is 98.6 Sd is 0.6\n"
     ]
    }
   ],
   "source": [
    "print('Mean is %2.1f Sd is %2.1f' % (temperature.mean(),np.std(temperature,ddof = 1)))"
   ]
  },
  {
   "cell_type": "markdown",
   "metadata": {},
   "source": [
    "### Step 1: Define null and alternative hypotheses"
   ]
  },
  {
   "cell_type": "markdown",
   "metadata": {},
   "source": [
    "In testing whether 17 year olds have an average body temperature that is higher than 98.6 deg F,the null hypothesis states that mean bdy temperature, $\\mu$ equals 98.6. The alternative hypthesis states that the mean body temprature, $\\mu$ is greater  than 98.6.\n",
    "\n",
    "* $H_0$: $\\mu$ = 98.6\n",
    "* $H_A$: $\\mu$ > 98.6"
   ]
  },
  {
   "cell_type": "markdown",
   "metadata": {},
   "source": [
    "### Step 2: Decide the significance level"
   ]
  },
  {
   "cell_type": "markdown",
   "metadata": {},
   "source": [
    "Here we select $\\alpha$ = 0.05 and it is given that n, sample size = 25."
   ]
  },
  {
   "cell_type": "markdown",
   "metadata": {},
   "source": [
    "### Step 3: Identify the test statistic"
   ]
  },
  {
   "cell_type": "markdown",
   "metadata": {},
   "source": [
    "We do not know the population standard deviation and the sample is not a large sample, n < 30. So you use the t distribution and the $t_STAT$ test statistic."
   ]
  },
  {
   "cell_type": "markdown",
   "metadata": {},
   "source": [
    "### Step 4: Calculate the p - value and test statistic"
   ]
  },
  {
   "cell_type": "markdown",
   "metadata": {},
   "source": [
    "**scipy.stats.ttest_1samp calculates the t test for the mean of one sample given the sample observations and  the expected value in the null hypothesis. This function returns t statistic and two-tailed p value.**"
   ]
  },
  {
   "cell_type": "code",
   "execution_count": 7,
   "metadata": {},
   "outputs": [],
   "source": [
    "t_statistic, p_value = ttest_1samp(temperature, 98.9)"
   ]
  },
  {
   "cell_type": "code",
   "execution_count": 8,
   "metadata": {},
   "outputs": [
    {
     "name": "stdout",
     "output_type": "stream",
     "text": [
      "-2.507394613271926 0.019333111622388346\n"
     ]
    }
   ],
   "source": [
    "print(t_statistic, p_value)"
   ]
  },
  {
   "cell_type": "markdown",
   "metadata": {},
   "source": [
    "### Step 5 Decide to reject or accept null hypothesis"
   ]
  },
  {
   "cell_type": "markdown",
   "metadata": {},
   "source": [
    "In this example, p value is 0.0193 and it is less than 5% level of significance\n",
    "\n",
    "So the statistical decision is to reject the null hypothesis at 5% level of significance.\n",
    "\n",
    "### So there is sufficient evidence  to prove that 17 year olds have an average body temperature that is higher than the commonly accepted average human temperature of 98.6 degree F."
   ]
  },
  {
   "cell_type": "markdown",
   "metadata": {},
   "source": [
    "### Practice Exercise 1"
   ]
  },
  {
   "cell_type": "markdown",
   "metadata": {},
   "source": [
    "You are given the daily sugar intake of 11 diabetic patients in the following Python code. \n",
    "\n",
    "**Is there any evidence to the claim that the average daily sugar intake of the diabetic patients is 7600 mg.** \n",
    "\n",
    "**Hint: Use t test**"
   ]
  },
  {
   "cell_type": "code",
   "execution_count": 3,
   "metadata": {},
   "outputs": [
    {
     "data": {
      "text/plain": [
       "array([5560, 5770, 7640, 5180, 5690, 6435, 6803, 7689, 6876, 8213, 8765])"
      ]
     },
     "execution_count": 3,
     "metadata": {},
     "output_type": "execute_result"
    }
   ],
   "source": [
    "# daily intake of Sugar in milligrams for 11 diabetic patients\n",
    "import scipy.stats as stats\n",
    "import numpy as np\n",
    "daily_intake = np.array([5560, 5770, 7640, 5180, 5690, 6435, 6803, 7689, 6876, 8213, 8765])\n",
    "daily_intake"
   ]
  },
  {
   "cell_type": "markdown",
   "metadata": {},
   "source": [
    "## Two sample test"
   ]
  },
  {
   "cell_type": "markdown",
   "metadata": {
    "collapsed": true
   },
   "source": [
    "** Two sample t test (Snedecor and Cochran 1989) is used to determine if two population means are equal.\n",
    "A common application is to test if a new treatment or approach or process is yielding better results than the current treatment or approach or process.**\n",
    "\n",
    "* 1) Data is *paired* - For example, a group of students are given coaching classes and effect of coaching on the  marks scored is determined.\n",
    "* 2) Data is *not paired* - For example, find out  whether the miles per gallon of  cars of Japanese make is superior to cars of Indian make."
   ]
  },
  {
   "cell_type": "markdown",
   "metadata": {},
   "source": [
    "## Two sample t test for unpaired data is defined as \n",
    "* $H_0$: $\\mu1$        = $\\mu2$ \n",
    "* $H_a$: $\\mu1$ $\\neq$ = $\\mu2$ \n",
    "\n",
    "### Test statistic T = $\\frac{\\overline{X_1} - \\overline{X_2}}{\\sqrt{\\frac{{s_1}^2} {n1}+ \\frac{{s_2}^2}{n2}}}$\n",
    "\n",
    "* where n1 and n2 are the sample sizes and X1 and X2 are the sample means \n",
    "* ${S_1}^2$ and ${S_2}^2$ are sample variances"
   ]
  },
  {
   "cell_type": "markdown",
   "metadata": {},
   "source": [
    "### Example 3"
   ]
  },
  {
   "cell_type": "markdown",
   "metadata": {},
   "source": [
    "Compare two unrelated samples. Data was collected on the weight loss of 16 women and 20 men enrolled in a weight reduction program.\n",
    "At $\\alpha$ = 0.05, test whether the weight loss of these two samples is different."
   ]
  },
  {
   "cell_type": "code",
   "execution_count": 4,
   "metadata": {},
   "outputs": [],
   "source": [
    "Weight_loss_Male   = [ 3.69, 4.12, 4.65, 3.19,  4.34, 3.68, 4.12, 4.50, 3.70, 3.09,3.65, 4.73, 3.93, 3.46, 3.28, 4.43, 4.13, 3.62, 3.71, 2.92]\n",
    "Weight_loss_Female = [2.99, 1.80, 3.79, 4.12, 1.76, 3.50, 3.61, 2.32, 3.67, 4.26, 4.57, 3.01, 3.82, 4.33, 3.40, 3.86]"
   ]
  },
  {
   "cell_type": "code",
   "execution_count": 2,
   "metadata": {},
   "outputs": [],
   "source": [
    "from    scipy.stats             import  ttest_1samp,ttest_ind, wilcoxon, ttest_ind_from_stats\n",
    "import  scipy.stats             as      stats  \n",
    "from    statsmodels.stats.power import  ttest_power\n",
    "import  matplotlib.pyplot       as      plt"
   ]
  },
  {
   "cell_type": "markdown",
   "metadata": {},
   "source": [
    "### Step 1: Define null and alternative hypotheses"
   ]
  },
  {
   "cell_type": "markdown",
   "metadata": {},
   "source": [
    "In testing whether weight reduction of female and male are same,the null hypothesis states that mean weight reduction, $\\mu{M}$ equals $\\mu{F}$. The alternative hypthesis states that the weight reduction is different for Male and Female, $\\mu{M}$ $\\neq$ $\\mu{F}$\n",
    "\n",
    "* $H_0$: $\\mu{M}$ - $\\mu{F}$ =      0\n",
    "* $H_A$: $\\mu{M}$ - $\\mu{F}$ $\\neq$  0"
   ]
  },
  {
   "cell_type": "markdown",
   "metadata": {},
   "source": [
    "### Step 2: Decide the significance level"
   ]
  },
  {
   "cell_type": "markdown",
   "metadata": {},
   "source": [
    "Here we select $\\alpha$ = 0.05 and sample size < 30 and population standard deviation is not known."
   ]
  },
  {
   "cell_type": "markdown",
   "metadata": {},
   "source": [
    "### Step 3: Identify the test statistic"
   ]
  },
  {
   "cell_type": "markdown",
   "metadata": {},
   "source": [
    "* We have two samples and we do not know the population standard deviation.\n",
    "* Sample sizes for both samples are not same.\n",
    "* The sample is not a large sample, n < 30. So you use the t distribution and the $t_STAT$ test statistic for two sample unpaired test."
   ]
  },
  {
   "cell_type": "markdown",
   "metadata": {},
   "source": [
    "### Step 4: Calculate the p - value and test statistic"
   ]
  },
  {
   "cell_type": "markdown",
   "metadata": {},
   "source": [
    "** We use the scipy.stats.ttest_ind to calculate the t-test for the means of TWO INDEPENDENT samples of scores given the two sample observations. This function returns t statistic and two-tailed p value.**\n",
    "\n",
    "** This is a two-sided test for the null hypothesis that 2 independent samples have identical average (expected) values. This test assumes that the populations have identical variances.**"
   ]
  },
  {
   "cell_type": "code",
   "execution_count": 12,
   "metadata": {},
   "outputs": [
    {
     "name": "stdout",
     "output_type": "stream",
     "text": [
      "P Value 0.076\n"
     ]
    }
   ],
   "source": [
    "t_statistic, p_value  =  stats.ttest_ind(Weight_loss_Male,Weight_loss_Female)\n",
    "print('P Value %1.3f' % p_value)    "
   ]
  },
  {
   "cell_type": "markdown",
   "metadata": {},
   "source": [
    "### Step 5:  Decide to reject or accept null hypothesis"
   ]
  },
  {
   "cell_type": "markdown",
   "metadata": {},
   "source": [
    "In this example, p value is 0.076 and it is more than 5% level of significance\n",
    "\n",
    "So the statistical decision is to accept the null hypothesis at 5% level of significance.\n",
    "\n",
    "### So there is no sufficient evidence  to reject the null hypothesis that the weight loss of these men and women is same."
   ]
  },
  {
   "cell_type": "markdown",
   "metadata": {},
   "source": [
    "### Practice Exercise 2"
   ]
  },
  {
   "cell_type": "markdown",
   "metadata": {},
   "source": [
    "Compare the following two unrelated samples. Data was collected on the weight of women and men enrolled in a weight reduction program.\n",
    "At $\\alpha$ = 0.05, test whether the weight of these two samples is different."
   ]
  },
  {
   "cell_type": "code",
   "execution_count": 1,
   "metadata": {
    "scrolled": true
   },
   "outputs": [],
   "source": [
    "Weight_Female       =  [ 53.8, 54.4, 51.2, 52.5, 61.0, 50.6, 51.6, 70.0]\n",
    "Weight_Male         =  [ 72.5, 80.3, 71.3, 67.7, 66.2, 73.4, 61.3, 76.8]"
   ]
  },
  {
   "cell_type": "code",
   "execution_count": 2,
   "metadata": {
    "scrolled": false
   },
   "outputs": [
    {
     "data": {
      "text/plain": [
       "<matplotlib.axes._subplots.AxesSubplot at 0x27f35918d88>"
      ]
     },
     "execution_count": 2,
     "metadata": {},
     "output_type": "execute_result"
    },
    {
     "data": {
      "image/png": "[encoded data removed]",
      "text/plain": [
       "<Figure size 432x288 with 1 Axes>"
      ]
     },
     "metadata": {
      "needs_background": "light"
     },
     "output_type": "display_data"
    }
   ],
   "source": [
    "from matplotlib import pyplot as plt\n",
    "import seaborn as sns\n",
    "sns.distplot(Weight_Female)\n",
    "sns.distplot(Weight_Male)"
   ]
  },
  {
   "cell_type": "code",
   "execution_count": 5,
   "metadata": {},
   "outputs": [
    {
     "data": {
      "text/plain": [
       "Ttest_indResult(statistic=4.886344172533444, pvalue=0.00024034957515992796)"
      ]
     },
     "execution_count": 5,
     "metadata": {},
     "output_type": "execute_result"
    }
   ],
   "source": [
    "import scipy.stats as stats\n",
    "stats.ttest_ind(Weight_Male,Weight_Female)"
   ]
  },
  {
   "cell_type": "markdown",
   "metadata": {},
   "source": [
    "## Two sample t test for paired data"
   ]
  },
  {
   "cell_type": "markdown",
   "metadata": {},
   "source": [
    "### Example 4"
   ]
  },
  {
   "cell_type": "markdown",
   "metadata": {},
   "source": [
    "Compare two related samples. Data was collected on the marks scored by 25 students in their final practice exam and the marks scored by the students after attending special coaching classes conducted by their college.\n",
    "At 5% level of significance, is there any evidence that the coaching classes has any effect on the marks scored."
   ]
  },
  {
   "cell_type": "code",
   "execution_count": 6,
   "metadata": {},
   "outputs": [],
   "source": [
    "Marks_before = [ 52, 56, 61, 47, 58, 52, 56, 60, 52, 46, 51, 62, 54, 50, 48, 59, 56, 51, 52, 44, 52, 45, 57, 60, 45]\n",
    "\n",
    "Marks_after  = [62, 64, 40, 65, 76, 82, 53, 68, 77, 60, 69, 34, 69, 73, 67, 82, 62, 49, 44, 43, 77, 61, 67, 67, 54]"
   ]
  },
  {
   "cell_type": "code",
   "execution_count": 12,
   "metadata": {
    "scrolled": true
   },
   "outputs": [
    {
     "data": {
      "text/plain": [
       "<matplotlib.axes._subplots.AxesSubplot at 0x231a56a8448>"
      ]
     },
     "execution_count": 12,
     "metadata": {},
     "output_type": "execute_result"
    },
    {
     "data": {
      "image/png": "[encoded data removed]",
      "text/plain": [
       "<Figure size 432x288 with 1 Axes>"
      ]
     },
     "metadata": {
      "needs_background": "light"
     },
     "output_type": "display_data"
    }
   ],
   "source": [
    "sns.distplot(Marks_after)\n",
    "sns.distplot(Marks_before)"
   ]
  },
  {
   "cell_type": "code",
   "execution_count": 7,
   "metadata": {},
   "outputs": [
    {
     "data": {
      "text/plain": [
       "Ttest_relResult(statistic=-3.404831324883169, pvalue=0.0023297583680290364)"
      ]
     },
     "execution_count": 7,
     "metadata": {},
     "output_type": "execute_result"
    }
   ],
   "source": [
    "stats.ttest_rel(Marks_before, Marks_after)"
   ]
  },
  {
   "cell_type": "markdown",
   "metadata": {},
   "source": [
    "### Example 5\n",
    "** Alchohol consumption before and after love failure is given in the following table. Conduct a paired t test to check whether the alcholhol consumption is more after the love failure at 5% level of significance.**"
   ]
  },
  {
   "cell_type": "code",
   "execution_count": 8,
   "metadata": {},
   "outputs": [
    {
     "data": {
      "text/plain": [
       "Ttest_relResult(statistic=-0.5375404241815105, pvalue=0.5971346738292477)"
      ]
     },
     "execution_count": 8,
     "metadata": {},
     "output_type": "execute_result"
    }
   ],
   "source": [
    "import numpy as np\n",
    "Alchohol_Consumption_before = np.array([470, 354, 496, 351, 349, 449, 378, 359, 469, 329, 389, 497, 493, 268, 445, 287, 338, 271, 412, 335])\n",
    "Alchohol_Consumption_after  = np.array([408, 439, 321, 437, 335, 344, 318, 492, 531, 417, 358, 391, 398, 394, 508, 399, 345, 341, 326, 467])\n",
    "stats.ttest_rel(Alchohol_Consumption_before, Alchohol_Consumption_after )"
   ]
  },
  {
   "cell_type": "code",
   "execution_count": 9,
   "metadata": {},
   "outputs": [
    {
     "data": {
      "text/plain": [
       "<matplotlib.axes._subplots.AxesSubplot at 0x1cd13a499c8>"
      ]
     },
     "execution_count": 9,
     "metadata": {},
     "output_type": "execute_result"
    },
    {
     "data": {
      "image/png": "[encoded data removed]",
      "text/plain": [
       "<Figure size 432x288 with 1 Axes>"
      ]
     },
     "metadata": {
      "needs_background": "light"
     },
     "output_type": "display_data"
    }
   ],
   "source": [
    "from matplotlib import pyplot as plt\n",
    "import seaborn as sns\n",
    "sns.distplot(Alchohol_Consumption_before)\n",
    "sns.distplot(Alchohol_Consumption_after)"
   ]
  },
  {
   "cell_type": "markdown",
   "metadata": {},
   "source": [
    "### Step 5:  Decide to reject or accept null hypothesis"
   ]
  },
  {
   "cell_type": "markdown",
   "metadata": {},
   "source": [
    "In this example, p value is 0.597 and it is more than 5% level of significance\n",
    "\n",
    "So the statistical decision is to accept the null hypothesis at 5% level of significance.\n",
    "\n",
    "### There is  no sufficient evidence  to reject the null hypothesis. So we accept the null hypotheis and conclude that  there is no effect of love failure on alcohol consumption"
   ]
  },
  {
   "cell_type": "markdown",
   "metadata": {},
   "source": [
    "### Practice Exercise 3"
   ]
  },
  {
   "cell_type": "markdown",
   "metadata": {},
   "source": [
    "Here weight of 25 people were recorded before they had a new therapy and then again 6 months later. \n",
    "Check if new therapy leads to a change in weight."
   ]
  },
  {
   "cell_type": "code",
   "execution_count": 5,
   "metadata": {},
   "outputs": [
    {
     "name": "stdout",
     "output_type": "stream",
     "text": [
      "-11.381954836452902\n",
      "3.704651177780503e-11\n"
     ]
    }
   ],
   "source": [
    "wt_before = np.array([76, 76, 72, 73, 64, 63, 75, 75, 71, 76, 71, 76, 78, 73, 76, 70, 71, 82, 84, 68, 70, 68, 66, 67, 74])\n",
    "wt_after  = np.array([63, 72, 67, 69, 58, 59, 70, 71, 70, 71, 68, 71, 72, 69, 72, 67, 67, 78, 79, 62, 67, 63, 61, 63, 69])\n",
    "D  = wt_after - wt_before\n",
    "import  scipy.stats  as stats  \n",
    "t_statistic, p_value  =  stats.ttest_1samp(D, 0)\n",
    "print(t_statistic)\n",
    "print(p_value)  "
   ]
  },
  {
   "cell_type": "markdown",
   "metadata": {},
   "source": [
    "At 5% level of significance, is there any evidence that the new therapy has any effect on the weight of the participants?"
   ]
  },
  {
   "cell_type": "markdown",
   "metadata": {},
   "source": [
    "Hint: Use a paired t test"
   ]
  },
  {
   "cell_type": "markdown",
   "metadata": {},
   "source": [
    "### Take home exercises"
   ]
  },
  {
   "cell_type": "markdown",
   "metadata": {
    "collapsed": true
   },
   "source": [
    "**1 Example: The following data represent the amount of soft drink filled in a sample of 50 consecutive 2-liter bottles as shown below:**\n",
    "\n",
    "|       |       |       |       |       |       |       |       |       |       |\n",
    "| ----- | ----- | ----- | ----- | ----- | ----- | ----- | ----- | ----- | ----- |\n",
    "| 2.109 | 2.086 | 2.066 | 2.075 | 2.065 | 2.057 | 2.052 | 2.044 | 2.036 | 2.038 | \n",
    "| 2.031 | 2.029 | 2.025 | 2.029 | 2.023 | 2.020 | 2.015 | 2.014 | 2.013 | 2.014 | \n",
    "| 2.012 | 2.012 | 2.012 | 2.010 | 2.005 | 2.003 | 1.999 | 1.996 | 1.997 | 1.992 | \n",
    "| 1.994 | 1.986 | 1.984 | 1.981 | 1.973 | 1.975 | 1.971 | 1.969 | 1.966 | 1.967 | \n",
    "| 1.963 | 1.957 | 1.951 | 1.951 | 1.947 | 1.941 | 1.941 | 1.938 | 1.908 | 1.894 | \n",
    "\n",
    "At 5% level of significance, is there evidence that the mean amount of soft drink filled is different from 2 litres? \n"
   ]
  },
  {
   "cell_type": "markdown",
   "metadata": {},
   "source": [
    "#### Hint: Use the following piece of code and try t test for one sample"
   ]
  },
  {
   "cell_type": "code",
   "execution_count": 19,
   "metadata": {},
   "outputs": [
    {
     "name": "stdout",
     "output_type": "stream",
     "text": [
      "Mean is 2.00 and standard deviation is 0.04\n"
     ]
    }
   ],
   "source": [
    "import numpy       as np\n",
    "import scipy.stats as stats\n",
    "volume = np.array([2.109, 2.086, 2.066, 2.075, 2.065, 2.057, 2.052, 2.044, 2.036, 2.038, \\\n",
    "                   2.031, 2.029, 2.025, 2.029, 2.023, 2.020, 2.015, 2.014, 2.013, 2.014,\\\n",
    "                   2.012, 2.012, 2.012, 2.010, 2.005, 2.003, 1.999, 1.996, 1.997, 1.992,\\\n",
    "                   1.994, 1.986, 1.984, 1.981, 1.973, 1.975, 1.971, 1.969, 1.966, 1.967,\\\n",
    "                   1.963, 1.957, 1.951, 1.951, 1.947, 1.941, 1.941, 1.938, 1.908, 1.894])\n",
    "\n",
    "print('Mean is %3.2f and standard deviation is %3.2f' %(volume.mean(),np.std(volume,ddof = 1)))"
   ]
  },
  {
   "cell_type": "markdown",
   "metadata": {},
   "source": [
    "**2. Sugar consumption in grams of 20 patients (both diabetic and non-diabetic) are given below:**\n",
    "\n",
    "*At 5% level of significance, is there evidence that the mean sugar consumption is different for diabetic and non-diabetic?**    In the following table, 0 means diabetic and 1 means non-diabetic.*\n",
    "    "
   ]
  },
  {
   "cell_type": "code",
   "execution_count": 20,
   "metadata": {},
   "outputs": [],
   "source": [
    "import numpy       as np\n",
    "import scipy.stats as stats\n",
    "weight               = np.array([[9.31, 0],[7.76, 0],[6.98, 1],[7.88, 1],[8.49, 1],[10.05, 1],[8.80, 1],[10.88, 1],[6.13, 1],[7.90, 1], \\\n",
    "                            [11.51, 0],[12.59, 0],[7.05, 1],[11.85, 0],[9.99, 0],[7.48, 0],[8.79, 0],[8.69, 1],[9.68, 0],[8.58, 1],\\\n",
    "                           [9.19, 0],[8.11, 1]])\n",
    "\n",
    "sugar_diabetic       = weight[:,1] == 0\n",
    "sugar_diabetic       = weight[sugar_diabetic][:,0]\n",
    "sugar_nondiabetic    = weight[:,1] == 1\n",
    "sugar_nondiabetic    = weight[sugar_nondiabetic][:,0] "
   ]
  },
  {
   "cell_type": "markdown",
   "metadata": {},
   "source": [
    "#### Hint: \n",
    "\n",
    "Use the numpy array, sugar_diabetic and numpy array, sugar_nondiabetic for your analysis."
   ]
  },
  {
   "cell_type": "markdown",
   "metadata": {},
   "source": [
    "**3 The delivery time of Pizza from an online food deliery service firm and the home delivery from a local restaurant are given below: At 5% level of significance, is the mean delivery time for online delivery food service firm is less than the mean delivery time for the home delivery from a local restaurant.**"
   ]
  },
  {
   "cell_type": "code",
   "execution_count": 7,
   "metadata": {},
   "outputs": [],
   "source": [
    "Pizza_delivery_online = [16.8, 11.7, 15.6, 16.7, 17.5, 18.1, 14.1, 21.8, 13.9, 20.8]\n",
    "Pizza_delivery_local  = [22.0, 15.2, 18.7, 15.6, 20.8, 19.5, 17.0, 19.5, 16.5, 24.0]"
   ]
  },
  {
   "cell_type": "code",
   "execution_count": 8,
   "metadata": {},
   "outputs": [
    {
     "name": "stdout",
     "output_type": "stream",
     "text": [
      "0.11960554332464257\n"
     ]
    }
   ],
   "source": [
    "t_statistic, p_value  =  stats.ttest_ind(Pizza_delivery_local,Pizza_delivery_online)\n",
    "print(p_value)    "
   ]
  },
  {
   "cell_type": "markdown",
   "metadata": {},
   "source": [
    "## End"
   ]
  },
  {
   "cell_type": "code",
   "execution_count": 23,
   "metadata": {},
   "outputs": [
    {
     "data": {
      "text/plain": [
       "2.063898561628021"
      ]
     },
     "execution_count": 23,
     "metadata": {},
     "output_type": "execute_result"
    }
   ],
   "source": [
    "stats.t.isf(df = 24,q = 0.025)"
   ]
  },
  {
   "cell_type": "code",
   "execution_count": 25,
   "metadata": {},
   "outputs": [
    {
     "data": {
      "text/plain": [
       "0.9747996043270939"
      ]
     },
     "execution_count": 25,
     "metadata": {},
     "output_type": "execute_result"
    }
   ],
   "source": [
    "stats.t.cdf(df = 24,x = 2.06)"
   ]
  },
  {
   "cell_type": "code",
   "execution_count": null,
   "metadata": {},
   "outputs": [],
   "source": []
  }
 ],
 "metadata": {
  "kernelspec": {
   "display_name": "Python 3",
   "language": "python",
   "name": "python3"
  },
  "language_info": {
   "codemirror_mode": {
    "name": "ipython",
    "version": 3
   },
   "file_extension": ".py",
   "mimetype": "text/x-python",
   "name": "python",
   "nbconvert_exporter": "python",
   "pygments_lexer": "ipython3",
   "version": "3.7.7"
  }
 },
 "nbformat": 4,
 "nbformat_minor": 2
}
